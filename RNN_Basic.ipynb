{
  "nbformat": 4,
  "nbformat_minor": 0,
  "metadata": {
    "colab": {
      "name": "RNN_Basic.ipynb",
      "provenance": [],
      "authorship_tag": "ABX9TyMg3E/5rl76tSzcwUqVYYKZ",
      "include_colab_link": true
    },
    "kernelspec": {
      "name": "python3",
      "display_name": "Python 3"
    }
  },
  "cells": [
    {
      "cell_type": "markdown",
      "metadata": {
        "id": "view-in-github",
        "colab_type": "text"
      },
      "source": [
        "<a href=\"https://colab.research.google.com/github/mindyng/ML-Keeping-it-FRESH/blob/master/RNN_Basic.ipynb\" target=\"_parent\"><img src=\"https://colab.research.google.com/assets/colab-badge.svg\" alt=\"Open In Colab\"/></a>"
      ]
    },
    {
      "cell_type": "code",
      "metadata": {
        "id": "gfcKOgHt0q3R",
        "outputId": "d934495c-612f-4288-a8d6-611d8a737069",
        "colab": {
          "base_uri": "https://localhost:8080/",
          "height": 153
        }
      },
      "source": [
        "import torch\n",
        "import torch.nn as nn\n",
        "from torch.autograd import Variable\n",
        "\n",
        "# One hot encoding for each char in 'hello'\n",
        "h = [1, 0, 0, 0]\n",
        "e = [0, 1, 0, 0]\n",
        "l = [0, 0, 1, 0]\n",
        "o = [0, 0, 0, 1]\n",
        "\n",
        "# One cell RNN input_dim (4) -> output_dim (2). sequence: 5\n",
        "cell = nn.RNN(input_size=4, hidden_size=2, batch_first=True)\n",
        "\n",
        "# (num_layers * num_directions, batch, hidden_size) whether batch_first=True or False\n",
        "hidden = Variable(torch.randn(1, 1, 2))\n",
        "\n",
        "# Propagate input through RNN\n",
        "# Input: (batch, seq_len, input_size) when batch_first=True\n",
        "inputs = Variable(torch.Tensor([h, e, l, l, o]))\n",
        "for one in inputs:\n",
        "    one = one.view(1, 1, -1)\n",
        "    # Input: (batch, seq_len, input_size) when batch_first=True\n",
        "    out, hidden = cell(one, hidden)\n",
        "    print(\"one input size\", one.size(), \"out size\", out.size())\n",
        "\n",
        "# We can do the whole at once\n",
        "# Propagate input through RNN\n",
        "# Input: (batch, seq_len, input_size) when batch_first=True\n",
        "inputs = inputs.view(1, 5, -1)\n",
        "out, hidden = cell(inputs, hidden)\n",
        "print(\"sequence input size\", inputs.size(), \"out size\", out.size())\n",
        "\n",
        "\n",
        "# hidden : (num_layers * num_directions, batch, hidden_size) whether batch_first=True or False\n",
        "hidden = Variable(torch.randn(1, 3, 2))\n",
        "\n",
        "# One cell RNN input_dim (4) -> output_dim (2). sequence: 5, batch 3\n",
        "# 3 batches 'hello', 'eolll', 'lleel'\n",
        "# rank = (3, 5, 4)\n",
        "inputs = Variable(torch.Tensor([[h, e, l, l, o],\n",
        "                                [e, o, l, l, l],\n",
        "                                [l, l, e, e, l]]))\n",
        "\n",
        "# Propagate input through RNN\n",
        "# Input: (batch, seq_len, input_size) when batch_first=True\n",
        "# B x S x I\n",
        "out, hidden = cell(inputs, hidden)\n",
        "print(\"batch input size\", inputs.size(), \"out size\", out.size())\n",
        "\n",
        "\n",
        "# One cell RNN input_dim (4) -> output_dim (2)\n",
        "cell = nn.RNN(input_size=4, hidden_size=2)\n",
        "\n",
        "# The given dimensions dim0 and dim1 are swapped.\n",
        "inputs = inputs.transpose(dim0=0, dim1=1)\n",
        "# Propagate input through RNN\n",
        "# Input: (seq_len, batch_size, input_size) when batch_first=False (default)\n",
        "# S x B x I\n",
        "out, hidden = cell(inputs, hidden)\n",
        "print(\"batch input size\", inputs.size(), \"out size\", out.size())"
      ],
      "execution_count": null,
      "outputs": [
        {
          "output_type": "stream",
          "text": [
            "one input size torch.Size([1, 1, 4]) out size torch.Size([1, 1, 2])\n",
            "one input size torch.Size([1, 1, 4]) out size torch.Size([1, 1, 2])\n",
            "one input size torch.Size([1, 1, 4]) out size torch.Size([1, 1, 2])\n",
            "one input size torch.Size([1, 1, 4]) out size torch.Size([1, 1, 2])\n",
            "one input size torch.Size([1, 1, 4]) out size torch.Size([1, 1, 2])\n",
            "sequence input size torch.Size([1, 5, 4]) out size torch.Size([1, 5, 2])\n",
            "batch input size torch.Size([3, 5, 4]) out size torch.Size([3, 5, 2])\n",
            "batch input size torch.Size([5, 3, 4]) out size torch.Size([5, 3, 2])\n"
          ],
          "name": "stdout"
        }
      ]
    },
    {
      "cell_type": "code",
      "metadata": {
        "id": "MbLEyG5bPkL9"
      },
      "source": [
        ""
      ],
      "execution_count": null,
      "outputs": []
    }
  ]
}